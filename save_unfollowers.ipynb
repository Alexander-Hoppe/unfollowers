{
 "cells": [
  {
   "cell_type": "code",
   "execution_count": 9,
   "id": "b9553a67-47fa-4b6b-ad07-e90e2da1c769",
   "metadata": {},
   "outputs": [],
   "source": [
    "import re"
   ]
  },
  {
   "cell_type": "markdown",
   "id": "4fa09ad6-dde0-4a94-8d4a-d4c6be70a65c",
   "metadata": {},
   "source": [
    "# Followers"
   ]
  },
  {
   "cell_type": "code",
   "execution_count": 10,
   "id": "96ef2d64-be93-40f5-85c7-02c9cfdd723d",
   "metadata": {},
   "outputs": [],
   "source": [
    "fh = '20201030_followers_element.txt'"
   ]
  },
  {
   "cell_type": "code",
   "execution_count": 11,
   "id": "5639d131-b060-4e93-ae94-7260d200b995",
   "metadata": {},
   "outputs": [],
   "source": [
    "#open text file in read mode\n",
    "text_file = open(fh, \"r\")\n",
    " \n",
    "#read whole file to a string\n",
    "data = text_file.read()\n",
    " \n",
    "#close file\n",
    "text_file.close()"
   ]
  },
  {
   "cell_type": "code",
   "execution_count": 12,
   "id": "c14fba57-9bcf-4962-a653-ff8f21335032",
   "metadata": {},
   "outputs": [
    {
     "data": {
      "text/plain": [
       "1792"
      ]
     },
     "execution_count": 12,
     "metadata": {},
     "output_type": "execute_result"
    }
   ],
   "source": [
    "expr = re.compile(\"(?<=img alt=\\\")(.{1,200})(?=\\'s profile picture)\")\n",
    "\n",
    "res = re.findall(expr, data)\n",
    "\n",
    "len(res)"
   ]
  },
  {
   "cell_type": "markdown",
   "id": "70f117f2-bd82-4111-8b7b-5b7ee95d8d7d",
   "metadata": {},
   "source": [
    "# Following"
   ]
  },
  {
   "cell_type": "code",
   "execution_count": 13,
   "id": "89c2388b-28ed-41bf-a510-40e0d533783e",
   "metadata": {},
   "outputs": [],
   "source": [
    "fhfollowing = '20221030_following.txt'"
   ]
  },
  {
   "cell_type": "code",
   "execution_count": 14,
   "id": "bc24570f-7f2b-47f8-8422-c2eac5f8e8f5",
   "metadata": {},
   "outputs": [],
   "source": [
    "#open text file in read mode\n",
    "text_file_following = open(fhfollowing, \"r\")\n",
    " \n",
    "#read whole file to a string\n",
    "datafollowing = text_file_following.read()\n",
    " \n",
    "#close file\n",
    "text_file_following.close()"
   ]
  },
  {
   "cell_type": "code",
   "execution_count": 15,
   "id": "9bb474a2-e6ec-4f6b-ad97-69cb2aad02e0",
   "metadata": {},
   "outputs": [],
   "source": [
    "expr = re.compile(\"(?<=img alt=\\\")(.{1,1000})(?=\\'s profile picture)\")"
   ]
  },
  {
   "cell_type": "code",
   "execution_count": 16,
   "id": "1c517140-3b8b-460a-b8ca-3978d1c09f48",
   "metadata": {},
   "outputs": [],
   "source": [
    "resfollowing = re.findall(expr, datafollowing)"
   ]
  },
  {
   "cell_type": "code",
   "execution_count": 17,
   "id": "c67b48a8-5abe-4ee4-a718-831eb46af114",
   "metadata": {},
   "outputs": [
    {
     "data": {
      "text/plain": [
       "1623"
      ]
     },
     "execution_count": 17,
     "metadata": {},
     "output_type": "execute_result"
    }
   ],
   "source": [
    "len(resfollowing)"
   ]
  },
  {
   "cell_type": "markdown",
   "id": "9153de9e-7af1-4d30-a6de-c4db4907fb89",
   "metadata": {},
   "source": [
    "# Overlap"
   ]
  },
  {
   "cell_type": "code",
   "execution_count": 18,
   "id": "6b79b9cd-5a4d-4fbf-9e14-8d7d04e2ee98",
   "metadata": {},
   "outputs": [],
   "source": [
    "# Find elements that are in second but not in first\n",
    "new = set(resfollowing) - set(res)"
   ]
  },
  {
   "cell_type": "code",
   "execution_count": 19,
   "id": "dc215a55-cab9-4c96-a581-c846785dfdf0",
   "metadata": {},
   "outputs": [
    {
     "data": {
      "text/plain": [
       "1117"
      ]
     },
     "execution_count": 19,
     "metadata": {},
     "output_type": "execute_result"
    }
   ],
   "source": [
    "len(new)"
   ]
  },
  {
   "cell_type": "code",
   "execution_count": 20,
   "id": "146d9b51-ee7d-4949-b5e9-f3f76ecbdafe",
   "metadata": {},
   "outputs": [],
   "source": [
    "with open('./unfollowers.txt', 'w') as unfollowfile: \n",
    "   #looping over the each ist element\n",
    "    for unfollower in new:\n",
    "         #writing to file line by line\n",
    "        unfollowfile.write('%s\\n' % unfollower)"
   ]
  }
 ],
 "metadata": {
  "kernelspec": {
   "display_name": "Python 3 (ipykernel)",
   "language": "python",
   "name": "python3"
  },
  "language_info": {
   "codemirror_mode": {
    "name": "ipython",
    "version": 3
   },
   "file_extension": ".py",
   "mimetype": "text/x-python",
   "name": "python",
   "nbconvert_exporter": "python",
   "pygments_lexer": "ipython3",
   "version": "3.10.4"
  }
 },
 "nbformat": 4,
 "nbformat_minor": 5
}
